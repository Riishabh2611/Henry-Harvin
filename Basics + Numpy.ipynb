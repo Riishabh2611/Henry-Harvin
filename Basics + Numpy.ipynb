{
 "cells": [
  {
   "cell_type": "markdown",
   "id": "cbe95e66",
   "metadata": {},
   "source": [
    "### Python"
   ]
  },
  {
   "cell_type": "code",
   "execution_count": 1,
   "id": "330c4a59",
   "metadata": {
    "scrolled": true
   },
   "outputs": [
    {
     "name": "stdout",
     "output_type": "stream",
     "text": [
      "Hello World\n"
     ]
    }
   ],
   "source": [
    "print(\"Hello World\")"
   ]
  },
  {
   "cell_type": "code",
   "execution_count": 2,
   "id": "f1b822f9",
   "metadata": {
    "scrolled": true
   },
   "outputs": [
    {
     "ename": "NameError",
     "evalue": "name 'Print' is not defined",
     "output_type": "error",
     "traceback": [
      "\u001b[1;31m---------------------------------------------------------------------------\u001b[0m",
      "\u001b[1;31mNameError\u001b[0m                                 Traceback (most recent call last)",
      "\u001b[1;32m<ipython-input-2-13d7f49ef816>\u001b[0m in \u001b[0;36m<module>\u001b[1;34m\u001b[0m\n\u001b[1;32m----> 1\u001b[1;33m \u001b[0mPrint\u001b[0m\u001b[1;33m(\u001b[0m\u001b[1;34m\"Hello World\"\u001b[0m\u001b[1;33m)\u001b[0m \u001b[1;31m#it should be written as print not Print\u001b[0m\u001b[1;33m\u001b[0m\u001b[1;33m\u001b[0m\u001b[0m\n\u001b[0m",
      "\u001b[1;31mNameError\u001b[0m: name 'Print' is not defined"
     ]
    }
   ],
   "source": [
    "Print(\"Hello World\") #it should be written as print not Print"
   ]
  },
  {
   "cell_type": "code",
   "execution_count": null,
   "id": "34ee2006",
   "metadata": {},
   "outputs": [],
   "source": [
    "print(Hello World) #strings should be defined wih inverted commas"
   ]
  },
  {
   "cell_type": "code",
   "execution_count": null,
   "id": "b3eeaf8d",
   "metadata": {},
   "outputs": [],
   "source": [
    "!python --version #python version"
   ]
  },
  {
   "cell_type": "code",
   "execution_count": null,
   "id": "7181fe83",
   "metadata": {},
   "outputs": [],
   "source": [
    "5*7+8"
   ]
  },
  {
   "cell_type": "code",
   "execution_count": null,
   "id": "1ebf37e2",
   "metadata": {},
   "outputs": [],
   "source": [
    "34/2"
   ]
  },
  {
   "cell_type": "code",
   "execution_count": null,
   "id": "ba482e0e",
   "metadata": {},
   "outputs": [],
   "source": [
    "a=5\n",
    "b=8\n",
    "c=a+b"
   ]
  },
  {
   "cell_type": "code",
   "execution_count": null,
   "id": "ab1ae5ef",
   "metadata": {},
   "outputs": [],
   "source": [
    "c #we wrote c again to get the output"
   ]
  },
  {
   "cell_type": "code",
   "execution_count": null,
   "id": "c0ed9196",
   "metadata": {},
   "outputs": [],
   "source": [
    "a=5\n",
    "b=6\n",
    "c=a+b\n",
    "d=a-b\n",
    "c\n",
    "d"
   ]
  },
  {
   "cell_type": "code",
   "execution_count": null,
   "id": "7a443314",
   "metadata": {},
   "outputs": [],
   "source": [
    "#we only got output for the last one i.e. d"
   ]
  },
  {
   "cell_type": "code",
   "execution_count": null,
   "id": "0aedb9ef",
   "metadata": {},
   "outputs": [],
   "source": [
    "c,d #to get multipe outputs"
   ]
  },
  {
   "cell_type": "code",
   "execution_count": null,
   "id": "27348c12",
   "metadata": {},
   "outputs": [],
   "source": [
    "a,b,c=20,40,'hi'"
   ]
  },
  {
   "cell_type": "code",
   "execution_count": null,
   "id": "721497da",
   "metadata": {},
   "outputs": [],
   "source": [
    "a,b,c"
   ]
  },
  {
   "cell_type": "code",
   "execution_count": null,
   "id": "d6258891",
   "metadata": {},
   "outputs": [],
   "source": [
    "a=b=c='test'\n",
    "b"
   ]
  },
  {
   "cell_type": "code",
   "execution_count": null,
   "id": "f853a678",
   "metadata": {},
   "outputs": [],
   "source": [
    "a"
   ]
  },
  {
   "cell_type": "code",
   "execution_count": null,
   "id": "597759e2",
   "metadata": {},
   "outputs": [],
   "source": [
    "c"
   ]
  },
  {
   "cell_type": "markdown",
   "id": "68c90deb",
   "metadata": {},
   "source": [
    "### Data Types"
   ]
  },
  {
   "cell_type": "code",
   "execution_count": null,
   "id": "859ee10f",
   "metadata": {},
   "outputs": [],
   "source": [
    "#Variables"
   ]
  },
  {
   "cell_type": "code",
   "execution_count": null,
   "id": "bf32c2b8",
   "metadata": {},
   "outputs": [],
   "source": [
    "name='Rishabh'"
   ]
  },
  {
   "cell_type": "code",
   "execution_count": null,
   "id": "bff77a46",
   "metadata": {},
   "outputs": [],
   "source": [
    "1name='Rishabh' #variable name should not start with a number but can have number at any other place"
   ]
  },
  {
   "cell_type": "code",
   "execution_count": null,
   "id": "41ce8e7a",
   "metadata": {},
   "outputs": [],
   "source": [
    "_name='Rishabh' #only underscore can be used at the start as a variable name and nothing else"
   ]
  },
  {
   "cell_type": "code",
   "execution_count": null,
   "id": "b8f47fd0",
   "metadata": {},
   "outputs": [],
   "source": [
    "n1ame='rishabh' #variable name should not start with a number but can have number at any other place"
   ]
  },
  {
   "cell_type": "code",
   "execution_count": null,
   "id": "6a21213c",
   "metadata": {},
   "outputs": [],
   "source": [
    "#Data Types are of 5 types"
   ]
  },
  {
   "cell_type": "code",
   "execution_count": null,
   "id": "48d2677c",
   "metadata": {},
   "outputs": [],
   "source": [
    "a='latha' #string\n",
    "type(a)"
   ]
  },
  {
   "cell_type": "code",
   "execution_count": null,
   "id": "db37b74c",
   "metadata": {},
   "outputs": [],
   "source": [
    "b=3 #integer\n",
    "type(b)"
   ]
  },
  {
   "cell_type": "code",
   "execution_count": null,
   "id": "053b8139",
   "metadata": {},
   "outputs": [],
   "source": [
    "c=3.6 #float\n",
    "type(c)"
   ]
  },
  {
   "cell_type": "code",
   "execution_count": null,
   "id": "3fc09603",
   "metadata": {},
   "outputs": [],
   "source": [
    "d=2j #complex\n",
    "type(d)"
   ]
  },
  {
   "cell_type": "code",
   "execution_count": null,
   "id": "28ad17ae",
   "metadata": {},
   "outputs": [],
   "source": [
    "x='True'# inside ' ' True/False is considered as string\n",
    "type(x)"
   ]
  },
  {
   "cell_type": "code",
   "execution_count": null,
   "id": "33598dc1",
   "metadata": {},
   "outputs": [],
   "source": [
    "x=True #boolean\n",
    "type(x)"
   ]
  },
  {
   "cell_type": "markdown",
   "id": "3f56b218",
   "metadata": {},
   "source": [
    "### Data Structure"
   ]
  },
  {
   "cell_type": "code",
   "execution_count": null,
   "id": "5d7c8fe3",
   "metadata": {},
   "outputs": [],
   "source": [
    "x = (\"apple\",\"banana\",\"cherry\")\n",
    "type(x)"
   ]
  },
  {
   "cell_type": "code",
   "execution_count": null,
   "id": "f10fda4f",
   "metadata": {},
   "outputs": [],
   "source": [
    "x = [\"apple\",\"banana\",\"cherry\"]\n",
    "type(x)"
   ]
  },
  {
   "cell_type": "code",
   "execution_count": null,
   "id": "14b8ec60",
   "metadata": {},
   "outputs": [],
   "source": [
    "x = {\"name\" : \"John\", \"Age\" : 22}\n",
    "type(x)"
   ]
  },
  {
   "cell_type": "code",
   "execution_count": null,
   "id": "823e283a",
   "metadata": {},
   "outputs": [],
   "source": [
    "x = {\"apple\",\"banana\",\"cherry\"}\n",
    "type(x)"
   ]
  },
  {
   "cell_type": "markdown",
   "id": "963a40a5",
   "metadata": {},
   "source": [
    "### List"
   ]
  },
  {
   "cell_type": "code",
   "execution_count": null,
   "id": "3b6dc509",
   "metadata": {},
   "outputs": [],
   "source": [
    "# allows heterogenous\n",
    "# index starts from 0\n",
    "# mutable using index\n",
    "# [     ]"
   ]
  },
  {
   "cell_type": "code",
   "execution_count": null,
   "id": "a8d2cf3a",
   "metadata": {},
   "outputs": [],
   "source": [
    "sample_list=[12,43,56,\"hi\",1+2j]\n",
    "sample_list"
   ]
  },
  {
   "cell_type": "code",
   "execution_count": null,
   "id": "0740e099",
   "metadata": {},
   "outputs": [],
   "source": [
    "type(sample_list)"
   ]
  },
  {
   "cell_type": "code",
   "execution_count": null,
   "id": "a96544a6",
   "metadata": {},
   "outputs": [],
   "source": [
    "sample_list[4]"
   ]
  },
  {
   "cell_type": "code",
   "execution_count": null,
   "id": "8ef06404",
   "metadata": {},
   "outputs": [],
   "source": [
    "sample_list[20]"
   ]
  },
  {
   "cell_type": "code",
   "execution_count": null,
   "id": "76af9731",
   "metadata": {},
   "outputs": [],
   "source": [
    "sample_list[1]"
   ]
  },
  {
   "cell_type": "code",
   "execution_count": null,
   "id": "5397c220",
   "metadata": {},
   "outputs": [],
   "source": [
    "sample_list[2]"
   ]
  },
  {
   "cell_type": "code",
   "execution_count": null,
   "id": "c1200d78",
   "metadata": {},
   "outputs": [],
   "source": [
    "sample_list[2] = 3.5"
   ]
  },
  {
   "cell_type": "code",
   "execution_count": null,
   "id": "3c08f084",
   "metadata": {},
   "outputs": [],
   "source": [
    "sample_list"
   ]
  },
  {
   "cell_type": "code",
   "execution_count": null,
   "id": "7c4b9b06",
   "metadata": {},
   "outputs": [],
   "source": [
    "sample_list.reverse()"
   ]
  },
  {
   "cell_type": "code",
   "execution_count": null,
   "id": "9f6c63d4",
   "metadata": {},
   "outputs": [],
   "source": [
    "sample_list"
   ]
  },
  {
   "cell_type": "code",
   "execution_count": null,
   "id": "0bd49e01",
   "metadata": {},
   "outputs": [],
   "source": [
    "sample_list[1]=100\n"
   ]
  },
  {
   "cell_type": "code",
   "execution_count": null,
   "id": "b32cc0bd",
   "metadata": {},
   "outputs": [],
   "source": [
    "sample_list[0]=500"
   ]
  },
  {
   "cell_type": "code",
   "execution_count": null,
   "id": "13cf8a28",
   "metadata": {},
   "outputs": [],
   "source": [
    "sample_list.sort()"
   ]
  },
  {
   "cell_type": "code",
   "execution_count": null,
   "id": "eda3d074",
   "metadata": {},
   "outputs": [],
   "source": [
    "sample_list"
   ]
  },
  {
   "cell_type": "markdown",
   "id": "ef7b0068",
   "metadata": {},
   "source": [
    "### Tuple"
   ]
  },
  {
   "cell_type": "code",
   "execution_count": null,
   "id": "d73cae9f",
   "metadata": {},
   "outputs": [],
   "source": [
    "# Allows heterogenous\n",
    "# index starts from 0 and retrieve using index\n",
    "# cannot change the data once declared - immutable\n",
    "# (     ) or without it"
   ]
  },
  {
   "cell_type": "code",
   "execution_count": null,
   "id": "7f8eb77a",
   "metadata": {},
   "outputs": [],
   "source": [
    "sample_tuple=(1,56,3.5,\"hi\",1+2j)\n",
    "sample_tuple"
   ]
  },
  {
   "cell_type": "code",
   "execution_count": null,
   "id": "3304cb20",
   "metadata": {},
   "outputs": [],
   "source": [
    "sample_tuple=1,56,3.5,\"hi\",1+2j\n",
    "sample_tuple"
   ]
  },
  {
   "cell_type": "code",
   "execution_count": null,
   "id": "e2a6f092",
   "metadata": {},
   "outputs": [],
   "source": [
    "type(sample_tuple)"
   ]
  },
  {
   "cell_type": "code",
   "execution_count": null,
   "id": "7a25cb2a",
   "metadata": {},
   "outputs": [],
   "source": [
    "sample_tuple[0]"
   ]
  },
  {
   "cell_type": "code",
   "execution_count": null,
   "id": "5026bf53",
   "metadata": {},
   "outputs": [],
   "source": [
    "sample_tuple[2]"
   ]
  },
  {
   "cell_type": "code",
   "execution_count": null,
   "id": "5bd117c2",
   "metadata": {},
   "outputs": [],
   "source": [
    "sample_tuple[7]"
   ]
  },
  {
   "cell_type": "code",
   "execution_count": null,
   "id": "2f6e0b0c",
   "metadata": {},
   "outputs": [],
   "source": [
    "sample_tuple.reverse()"
   ]
  },
  {
   "cell_type": "code",
   "execution_count": null,
   "id": "99c0ccc5",
   "metadata": {},
   "outputs": [],
   "source": [
    "sample_tuple[0]=13 #immutable"
   ]
  },
  {
   "cell_type": "code",
   "execution_count": null,
   "id": "212d4566",
   "metadata": {},
   "outputs": [],
   "source": [
    "sample_tuple.append(1)"
   ]
  },
  {
   "cell_type": "code",
   "execution_count": null,
   "id": "6556c2bb",
   "metadata": {},
   "outputs": [],
   "source": [
    "sample_tuple.remove(1)"
   ]
  },
  {
   "cell_type": "markdown",
   "id": "75e69330",
   "metadata": {},
   "source": [
    "### SET"
   ]
  },
  {
   "cell_type": "code",
   "execution_count": null,
   "id": "0ad5810d",
   "metadata": {},
   "outputs": [],
   "source": [
    "#add hetegogenous\n",
    "#does not allow duplicates\n",
    "#cannot access using index\n",
    "#immutable usig index\n",
    "#mutable using elements\n",
    "#ordered-first place \"\""
   ]
  },
  {
   "cell_type": "code",
   "execution_count": null,
   "id": "2e5e0ebf",
   "metadata": {},
   "outputs": [],
   "source": [
    "sample_set={1,2,3,4,5,32,45,1,0,2,3,4,25,63,57,235,25,\"hi\",\"hello\",\"abc\",253}\n",
    "type(sample_set)"
   ]
  },
  {
   "cell_type": "code",
   "execution_count": null,
   "id": "7d8718a4",
   "metadata": {},
   "outputs": [],
   "source": [
    "sample_set "
   ]
  },
  {
   "cell_type": "code",
   "execution_count": null,
   "id": "93df5920",
   "metadata": {},
   "outputs": [],
   "source": [
    "sample_set[2]"
   ]
  },
  {
   "cell_type": "code",
   "execution_count": null,
   "id": "98980733",
   "metadata": {},
   "outputs": [],
   "source": [
    "sample_set.remove(1)\n",
    "sample_set"
   ]
  },
  {
   "cell_type": "code",
   "execution_count": null,
   "id": "9d6bc1f6",
   "metadata": {},
   "outputs": [],
   "source": [
    "sample_set.add(999)\n",
    "sample_set"
   ]
  },
  {
   "cell_type": "code",
   "execution_count": null,
   "id": "6c63c6e3",
   "metadata": {
    "scrolled": true
   },
   "outputs": [],
   "source": [
    "sample_set.pop()    ##randomly picks an element"
   ]
  },
  {
   "cell_type": "code",
   "execution_count": null,
   "id": "2c6ec626",
   "metadata": {},
   "outputs": [],
   "source": [
    "sample_set.update([22,33,44,55,888]) #to add multiple elements at once\n",
    "sample_set"
   ]
  },
  {
   "cell_type": "markdown",
   "id": "327adca7",
   "metadata": {},
   "source": [
    "### Dictionary"
   ]
  },
  {
   "cell_type": "markdown",
   "id": "851d60f7",
   "metadata": {},
   "source": [
    "### Important points\n",
    "It has key value pair data structure /n\n",
    "Key is unique and values can be duplicate\n",
    "can retrieve the value using key\n",
    "can change the value using key\n",
    "key is immutable\n"
   ]
  },
  {
   "cell_type": "code",
   "execution_count": null,
   "id": "c5d29684",
   "metadata": {},
   "outputs": [],
   "source": [
    "#It has key value pair data structure /n\n",
    "#Key is unique and values can be duplicate\n",
    "#can retrieve the value using key\n",
    "#can change the value using key\n",
    "#key is immutable"
   ]
  },
  {
   "cell_type": "code",
   "execution_count": 5,
   "id": "1010640c",
   "metadata": {},
   "outputs": [
    {
     "data": {
      "text/plain": [
       "{'a': 'alpha',\n",
       " 1: 'first',\n",
       " 2: 'second',\n",
       " 3: 'third',\n",
       " 4: 'fourth',\n",
       " 5: 'fifth',\n",
       " 6: 'sixth'}"
      ]
     },
     "execution_count": 5,
     "metadata": {},
     "output_type": "execute_result"
    }
   ],
   "source": [
    "sample_dict = {\"a\":\"alpha\",1:\"first\",2:\"second\",3:\"third\",4:\"fourth\",5:\"fifth\",6:\"sixth\"}\n",
    "sample_dict"
   ]
  },
  {
   "cell_type": "code",
   "execution_count": 6,
   "id": "0c5abcf9",
   "metadata": {},
   "outputs": [
    {
     "data": {
      "text/plain": [
       "dict"
      ]
     },
     "execution_count": 6,
     "metadata": {},
     "output_type": "execute_result"
    }
   ],
   "source": [
    "type(sample_dict) #a,1,2,3,4,5,6 are keys and alpha,first,second....are values"
   ]
  },
  {
   "cell_type": "code",
   "execution_count": 7,
   "id": "522d8e53",
   "metadata": {
    "scrolled": true
   },
   "outputs": [
    {
     "data": {
      "text/plain": [
       "'alpha'"
      ]
     },
     "execution_count": 7,
     "metadata": {},
     "output_type": "execute_result"
    }
   ],
   "source": [
    "sample_dict[\"a\"]"
   ]
  },
  {
   "cell_type": "code",
   "execution_count": 8,
   "id": "7d4000d9",
   "metadata": {},
   "outputs": [],
   "source": [
    "sample_dict[5]=\"seventh\" #mutable using key"
   ]
  },
  {
   "cell_type": "code",
   "execution_count": 9,
   "id": "fc8c4f6b",
   "metadata": {},
   "outputs": [
    {
     "data": {
      "text/plain": [
       "{'a': 'alpha',\n",
       " 1: 'first',\n",
       " 2: 'second',\n",
       " 3: 'third',\n",
       " 4: 'fourth',\n",
       " 5: 'seventh',\n",
       " 6: 'sixth'}"
      ]
     },
     "execution_count": 9,
     "metadata": {},
     "output_type": "execute_result"
    }
   ],
   "source": [
    "sample_dict"
   ]
  },
  {
   "cell_type": "code",
   "execution_count": 10,
   "id": "d15466ab",
   "metadata": {},
   "outputs": [
    {
     "data": {
      "text/plain": [
       "'seventh'"
      ]
     },
     "execution_count": 10,
     "metadata": {},
     "output_type": "execute_result"
    }
   ],
   "source": [
    "sample_dict[5] #retrieve value using key"
   ]
  },
  {
   "cell_type": "code",
   "execution_count": 11,
   "id": "a7f92b12",
   "metadata": {},
   "outputs": [
    {
     "data": {
      "text/plain": [
       "{'a': 'alpha',\n",
       " 1: 'first',\n",
       " 2: 'second',\n",
       " 3: 'third',\n",
       " 4: 'fourth',\n",
       " 5: 'seventh',\n",
       " 6: 'sixth',\n",
       " 10: 'tenth'}"
      ]
     },
     "execution_count": 11,
     "metadata": {},
     "output_type": "execute_result"
    }
   ],
   "source": [
    "sample_dict[10]=\"tenth\" #we can add key and values to a dictonary\n",
    "sample_dict"
   ]
  },
  {
   "cell_type": "code",
   "execution_count": 12,
   "id": "b4190887",
   "metadata": {},
   "outputs": [
    {
     "ename": "AttributeError",
     "evalue": "'dict' object has no attribute 'reverse'",
     "output_type": "error",
     "traceback": [
      "\u001b[1;31m---------------------------------------------------------------------------\u001b[0m",
      "\u001b[1;31mAttributeError\u001b[0m                            Traceback (most recent call last)",
      "\u001b[1;32m<ipython-input-12-30df3e04ae26>\u001b[0m in \u001b[0;36m<module>\u001b[1;34m\u001b[0m\n\u001b[1;32m----> 1\u001b[1;33m \u001b[0msample_dict\u001b[0m\u001b[1;33m.\u001b[0m\u001b[0mreverse\u001b[0m\u001b[1;33m(\u001b[0m\u001b[1;33m)\u001b[0m\u001b[1;33m\u001b[0m\u001b[1;33m\u001b[0m\u001b[0m\n\u001b[0m",
      "\u001b[1;31mAttributeError\u001b[0m: 'dict' object has no attribute 'reverse'"
     ]
    }
   ],
   "source": [
    "sample_dict.reverse()"
   ]
  },
  {
   "cell_type": "code",
   "execution_count": 13,
   "id": "cea5976c",
   "metadata": {},
   "outputs": [
    {
     "data": {
      "text/plain": [
       "{1: 'first',\n",
       " 2: 'second',\n",
       " 3: 'third',\n",
       " 4: 'fourth',\n",
       " 5: 'seventh',\n",
       " 6: 'sixth',\n",
       " 10: 'tenth'}"
      ]
     },
     "execution_count": 13,
     "metadata": {},
     "output_type": "execute_result"
    }
   ],
   "source": [
    "sample_dict.pop(\"a\")\n",
    "sample_dict"
   ]
  },
  {
   "cell_type": "markdown",
   "id": "408fbac4",
   "metadata": {},
   "source": [
    "### String\n",
    "#### string can be retrieved using index\n",
    "#### string is immutable"
   ]
  },
  {
   "cell_type": "code",
   "execution_count": 14,
   "id": "c8e81528",
   "metadata": {},
   "outputs": [
    {
     "data": {
      "text/plain": [
       "str"
      ]
     },
     "execution_count": 14,
     "metadata": {},
     "output_type": "execute_result"
    }
   ],
   "source": [
    "a=\"hi my boy\"\n",
    "type(a)"
   ]
  },
  {
   "cell_type": "code",
   "execution_count": 15,
   "id": "50f99712",
   "metadata": {},
   "outputs": [
    {
     "data": {
      "text/plain": [
       "'h'"
      ]
     },
     "execution_count": 15,
     "metadata": {},
     "output_type": "execute_result"
    }
   ],
   "source": [
    "a[0]"
   ]
  },
  {
   "cell_type": "code",
   "execution_count": 16,
   "id": "b06278b9",
   "metadata": {},
   "outputs": [
    {
     "data": {
      "text/plain": [
       "' '"
      ]
     },
     "execution_count": 16,
     "metadata": {},
     "output_type": "execute_result"
    }
   ],
   "source": [
    "a[5]"
   ]
  },
  {
   "cell_type": "code",
   "execution_count": 17,
   "id": "ed8df4df",
   "metadata": {},
   "outputs": [
    {
     "ename": "TypeError",
     "evalue": "'str' object does not support item assignment",
     "output_type": "error",
     "traceback": [
      "\u001b[1;31m---------------------------------------------------------------------------\u001b[0m",
      "\u001b[1;31mTypeError\u001b[0m                                 Traceback (most recent call last)",
      "\u001b[1;32m<ipython-input-17-274df9815f08>\u001b[0m in \u001b[0;36m<module>\u001b[1;34m\u001b[0m\n\u001b[1;32m----> 1\u001b[1;33m \u001b[0ma\u001b[0m\u001b[1;33m[\u001b[0m\u001b[1;36m0\u001b[0m\u001b[1;33m]\u001b[0m\u001b[1;33m=\u001b[0m\u001b[1;34m'x'\u001b[0m\u001b[1;33m\u001b[0m\u001b[1;33m\u001b[0m\u001b[0m\n\u001b[0m",
      "\u001b[1;31mTypeError\u001b[0m: 'str' object does not support item assignment"
     ]
    }
   ],
   "source": [
    "a[0]='x' #immutable"
   ]
  },
  {
   "cell_type": "markdown",
   "id": "ab6c79bd",
   "metadata": {},
   "source": [
    "## NUMPY: Package for Multidimentional Array\n",
    "### Vector(1D)\n",
    "#### Matrix(2D Or 1D)"
   ]
  },
  {
   "cell_type": "markdown",
   "id": "95981adc",
   "metadata": {},
   "source": [
    "### Create an array"
   ]
  },
  {
   "cell_type": "code",
   "execution_count": 18,
   "id": "54ed7b27",
   "metadata": {},
   "outputs": [],
   "source": [
    "import numpy as np"
   ]
  },
  {
   "cell_type": "code",
   "execution_count": 19,
   "id": "913b2aab",
   "metadata": {},
   "outputs": [
    {
     "data": {
      "text/plain": [
       "array([6, 7, 9])"
      ]
     },
     "execution_count": 19,
     "metadata": {},
     "output_type": "execute_result"
    }
   ],
   "source": [
    "simple_list=[6,7,9] #way 1 to create an array\n",
    "np.array(simple_list)"
   ]
  },
  {
   "cell_type": "code",
   "execution_count": 20,
   "id": "0b3669a6",
   "metadata": {},
   "outputs": [
    {
     "data": {
      "text/plain": [
       "array([6, 7, 9])"
      ]
     },
     "execution_count": 20,
     "metadata": {},
     "output_type": "execute_result"
    }
   ],
   "source": [
    "arr=np.array([6, 7, 9]) #way 2 to create an array\n",
    "arr"
   ]
  },
  {
   "cell_type": "code",
   "execution_count": 21,
   "id": "099f668b",
   "metadata": {},
   "outputs": [
    {
     "data": {
      "text/plain": [
       "array([[1, 2, 3],\n",
       "       [4, 5, 6],\n",
       "       [7, 8, 9]])"
      ]
     },
     "execution_count": 21,
     "metadata": {},
     "output_type": "execute_result"
    }
   ],
   "source": [
    "list_of_lists=([1,2,3],[4,5,6],[7,8,9]) #creating another array\n",
    "np.array(list_of_lists)"
   ]
  },
  {
   "cell_type": "code",
   "execution_count": 23,
   "id": "dbb2372b",
   "metadata": {},
   "outputs": [
    {
     "data": {
      "text/plain": [
       "array([[1, 2, 3],\n",
       "       [4, 5, 6],\n",
       "       [7, 8, 9]])"
      ]
     },
     "execution_count": 23,
     "metadata": {},
     "output_type": "execute_result"
    }
   ],
   "source": [
    "arr=np.array([[1,2,3],[4,5,6],[7,8,9]]) #creating another array\n",
    "arr"
   ]
  },
  {
   "cell_type": "code",
   "execution_count": 24,
   "id": "ceae3e3c",
   "metadata": {},
   "outputs": [
    {
     "data": {
      "text/plain": [
       "array([ 5,  6,  7,  8,  9, 10, 11, 12, 13, 14, 15, 16, 17, 18, 19, 20, 21,\n",
       "       22, 23, 24, 25, 26, 27])"
      ]
     },
     "execution_count": 24,
     "metadata": {},
     "output_type": "execute_result"
    }
   ],
   "source": [
    "np.arange(5,28) #strating no is 5 and ending no is 28-1=27, also we have not specified any stepsize"
   ]
  },
  {
   "cell_type": "code",
   "execution_count": 26,
   "id": "cf3a44a3",
   "metadata": {},
   "outputs": [
    {
     "data": {
      "text/plain": [
       "array([ 5, 11, 17, 23, 29])"
      ]
     },
     "execution_count": 26,
     "metadata": {},
     "output_type": "execute_result"
    }
   ],
   "source": [
    "np.arange(5,35,6) #6 is the stepsize"
   ]
  },
  {
   "cell_type": "code",
   "execution_count": 28,
   "id": "138d6266",
   "metadata": {},
   "outputs": [
    {
     "data": {
      "text/plain": [
       "array([0., 0., 0., 0., 0., 0.])"
      ]
     },
     "execution_count": 28,
     "metadata": {},
     "output_type": "execute_result"
    }
   ],
   "source": [
    "np.zeros(6) #zeros"
   ]
  },
  {
   "cell_type": "code",
   "execution_count": 29,
   "id": "20628282",
   "metadata": {},
   "outputs": [
    {
     "data": {
      "text/plain": [
       "array([0, 0, 0, 0, 0, 0])"
      ]
     },
     "execution_count": 29,
     "metadata": {},
     "output_type": "execute_result"
    }
   ],
   "source": [
    "np.zeros(6,dtype=int)"
   ]
  },
  {
   "cell_type": "code",
   "execution_count": 30,
   "id": "a54da452",
   "metadata": {},
   "outputs": [
    {
     "data": {
      "text/plain": [
       "array([1., 1., 1., 1., 1.])"
      ]
     },
     "execution_count": 30,
     "metadata": {},
     "output_type": "execute_result"
    }
   ],
   "source": [
    "np.ones(5) # ones"
   ]
  },
  {
   "cell_type": "code",
   "execution_count": 31,
   "id": "226e9cc0",
   "metadata": {},
   "outputs": [
    {
     "data": {
      "text/plain": [
       "array([1, 1, 1, 1, 1])"
      ]
     },
     "execution_count": 31,
     "metadata": {},
     "output_type": "execute_result"
    }
   ],
   "source": [
    "np.ones(5,dtype=int)"
   ]
  },
  {
   "cell_type": "code",
   "execution_count": 32,
   "id": "0967e5dd",
   "metadata": {},
   "outputs": [
    {
     "data": {
      "text/plain": [
       "array([[1, 1, 1, 1, 1],\n",
       "       [1, 1, 1, 1, 1]])"
      ]
     },
     "execution_count": 32,
     "metadata": {},
     "output_type": "execute_result"
    }
   ],
   "source": [
    "np.ones((2,5),dtype=int) # 2 and 5 are rows and columns"
   ]
  },
  {
   "cell_type": "code",
   "execution_count": 33,
   "id": "4f20591c",
   "metadata": {},
   "outputs": [
    {
     "data": {
      "text/plain": [
       "array([0.        , 0.02040816, 0.04081633, 0.06122449, 0.08163265,\n",
       "       0.10204082, 0.12244898, 0.14285714, 0.16326531, 0.18367347,\n",
       "       0.20408163, 0.2244898 , 0.24489796, 0.26530612, 0.28571429,\n",
       "       0.30612245, 0.32653061, 0.34693878, 0.36734694, 0.3877551 ,\n",
       "       0.40816327, 0.42857143, 0.44897959, 0.46938776, 0.48979592,\n",
       "       0.51020408, 0.53061224, 0.55102041, 0.57142857, 0.59183673,\n",
       "       0.6122449 , 0.63265306, 0.65306122, 0.67346939, 0.69387755,\n",
       "       0.71428571, 0.73469388, 0.75510204, 0.7755102 , 0.79591837,\n",
       "       0.81632653, 0.83673469, 0.85714286, 0.87755102, 0.89795918,\n",
       "       0.91836735, 0.93877551, 0.95918367, 0.97959184, 1.        ])"
      ]
     },
     "execution_count": 33,
     "metadata": {},
     "output_type": "execute_result"
    }
   ],
   "source": [
    "np.linspace(0,1)"
   ]
  },
  {
   "cell_type": "code",
   "execution_count": 34,
   "id": "c62195fc",
   "metadata": {},
   "outputs": [
    {
     "data": {
      "text/plain": [
       "array([0.  , 0.25, 0.5 , 0.75, 1.  ])"
      ]
     },
     "execution_count": 34,
     "metadata": {},
     "output_type": "execute_result"
    }
   ],
   "source": [
    "np.linspace(0,1,5) \n",
    "\n",
    "#starts from 0, last number is 1, 5 is the total no. of output with 4 partitions (equally spaced."
   ]
  },
  {
   "cell_type": "code",
   "execution_count": 35,
   "id": "a46c756f",
   "metadata": {},
   "outputs": [
    {
     "data": {
      "text/plain": [
       "array([ 0.        ,  2.22222222,  4.44444444,  6.66666667,  8.88888889,\n",
       "       11.11111111, 13.33333333, 15.55555556, 17.77777778, 20.        ])"
      ]
     },
     "execution_count": 35,
     "metadata": {},
     "output_type": "execute_result"
    }
   ],
   "source": [
    "np.linspace(0,20,10) #1st no-0,last no. - 20, 10 outputs with 9 partitions"
   ]
  },
  {
   "cell_type": "code",
   "execution_count": 36,
   "id": "20302511",
   "metadata": {},
   "outputs": [
    {
     "data": {
      "text/plain": [
       "array([ 0.        ,  0.71428571,  1.42857143,  2.14285714,  2.85714286,\n",
       "        3.57142857,  4.28571429,  5.        ,  5.71428571,  6.42857143,\n",
       "        7.14285714,  7.85714286,  8.57142857,  9.28571429, 10.        ])"
      ]
     },
     "execution_count": 36,
     "metadata": {},
     "output_type": "execute_result"
    }
   ],
   "source": [
    "np.linspace(0,10,15)"
   ]
  },
  {
   "cell_type": "code",
   "execution_count": 37,
   "id": "b5b16d84",
   "metadata": {},
   "outputs": [
    {
     "data": {
      "text/plain": [
       "array([[1., 0., 0., 0., 0.],\n",
       "       [0., 1., 0., 0., 0.],\n",
       "       [0., 0., 1., 0., 0.],\n",
       "       [0., 0., 0., 1., 0.],\n",
       "       [0., 0., 0., 0., 1.]])"
      ]
     },
     "execution_count": 37,
     "metadata": {},
     "output_type": "execute_result"
    }
   ],
   "source": [
    "np.eye(5)"
   ]
  },
  {
   "cell_type": "code",
   "execution_count": 39,
   "id": "187e1799",
   "metadata": {},
   "outputs": [
    {
     "data": {
      "text/plain": [
       "array([[1, 0, 0, 0, 0],\n",
       "       [0, 1, 0, 0, 0],\n",
       "       [0, 0, 1, 0, 0],\n",
       "       [0, 0, 0, 1, 0],\n",
       "       [0, 0, 0, 0, 1]])"
      ]
     },
     "execution_count": 39,
     "metadata": {},
     "output_type": "execute_result"
    }
   ],
   "source": [
    "np.eye(5,dtype=int)"
   ]
  },
  {
   "cell_type": "code",
   "execution_count": 40,
   "id": "1ea3bae4",
   "metadata": {},
   "outputs": [
    {
     "data": {
      "text/plain": [
       "array([[0.99168485, 0.6346421 , 0.51379273, 0.09166035],\n",
       "       [0.13949974, 0.49587567, 0.96016114, 0.33922016]])"
      ]
     },
     "execution_count": 40,
     "metadata": {},
     "output_type": "execute_result"
    }
   ],
   "source": [
    "np.random.rand(2,4) #uniform distribution b/w 0 and 1"
   ]
  },
  {
   "cell_type": "code",
   "execution_count": 41,
   "id": "48ebc778",
   "metadata": {},
   "outputs": [
    {
     "data": {
      "text/plain": [
       "array([[ 0.41001372, -1.61103148, -1.93159279,  1.24305961],\n",
       "       [-1.77268029,  1.23722499,  0.25888184,  0.28265835]])"
      ]
     },
     "execution_count": 41,
     "metadata": {},
     "output_type": "execute_result"
    }
   ],
   "source": [
    "np.random.randn(2,4) #positive as well as negative numbers"
   ]
  },
  {
   "cell_type": "code",
   "execution_count": 43,
   "id": "9279bad7",
   "metadata": {},
   "outputs": [
    {
     "data": {
      "text/plain": [
       "array([[0.92983955, 0.46220733, 0.92240661, 0.34701896, 0.83148195],\n",
       "       [0.61667351, 0.95806973, 0.14873807, 0.16567116, 0.46660648]])"
      ]
     },
     "execution_count": 43,
     "metadata": {},
     "output_type": "execute_result"
    }
   ],
   "source": [
    "np.random.rand(2,5) "
   ]
  },
  {
   "cell_type": "code",
   "execution_count": 44,
   "id": "b8de9204",
   "metadata": {},
   "outputs": [
    {
     "data": {
      "text/plain": [
       "array([3, 1, 4, 9, 9, 7, 1, 3, 9, 4, 5, 4, 2, 3, 0, 5, 8, 7, 3, 7, 9, 0,\n",
       "       8, 0, 4, 8, 2, 2, 2, 9, 2, 9, 3, 6, 3, 4, 3, 6, 2, 9, 9, 8, 7, 0,\n",
       "       8, 6, 1, 5, 5, 6, 3, 0, 9, 6, 0, 4, 7, 2, 9, 0, 4, 5, 2, 5, 1, 4,\n",
       "       1, 3, 7, 2, 5, 2, 8, 4, 6, 5, 2, 1, 5, 1, 4, 7, 6, 2, 2, 7, 1, 0,\n",
       "       1, 7, 6, 8, 3, 6, 7, 7, 0, 2, 3, 7])"
      ]
     },
     "execution_count": 44,
     "metadata": {},
     "output_type": "execute_result"
    }
   ],
   "source": [
    "np.random.randint(0,10,100) # from 0 to 9, we would we getting 100 random numbers"
   ]
  },
  {
   "cell_type": "code",
   "execution_count": 45,
   "id": "a72a76e0",
   "metadata": {},
   "outputs": [
    {
     "data": {
      "text/plain": [
       "array([74, 72, 70, 83, 15, 82, 59, 82, 20, 39, 64, 48, 80, 16, 16])"
      ]
     },
     "execution_count": 45,
     "metadata": {},
     "output_type": "execute_result"
    }
   ],
   "source": [
    "np.random.randint(10,100,15) "
   ]
  },
  {
   "cell_type": "code",
   "execution_count": 47,
   "id": "e62eceb3",
   "metadata": {},
   "outputs": [
    {
     "data": {
      "text/plain": [
       "array([ 2,  3,  4,  5,  6,  7,  8,  9, 10, 11, 12, 13, 14, 15, 16, 17, 18,\n",
       "       19])"
      ]
     },
     "execution_count": 47,
     "metadata": {},
     "output_type": "execute_result"
    }
   ],
   "source": [
    "sample_array=np.arange(2,20)\n",
    "sample_array"
   ]
  },
  {
   "cell_type": "code",
   "execution_count": 56,
   "id": "c14ed94e",
   "metadata": {},
   "outputs": [
    {
     "data": {
      "text/plain": [
       "array([6, 5, 4, 0, 1])"
      ]
     },
     "execution_count": 56,
     "metadata": {},
     "output_type": "execute_result"
    }
   ],
   "source": [
    "rand_array=np.random.randint(0,10,5)\n",
    "rand_array"
   ]
  },
  {
   "cell_type": "code",
   "execution_count": 55,
   "id": "8f4a2b14",
   "metadata": {},
   "outputs": [
    {
     "data": {
      "text/plain": [
       "2"
      ]
     },
     "execution_count": 55,
     "metadata": {},
     "output_type": "execute_result"
    }
   ],
   "source": [
    "sample_array.min()"
   ]
  },
  {
   "cell_type": "code",
   "execution_count": 51,
   "id": "312d2d99",
   "metadata": {},
   "outputs": [
    {
     "data": {
      "text/plain": [
       "0"
      ]
     },
     "execution_count": 51,
     "metadata": {},
     "output_type": "execute_result"
    }
   ],
   "source": [
    "sample_array.argmin() #it gives index of min value"
   ]
  },
  {
   "cell_type": "code",
   "execution_count": 57,
   "id": "e587080e",
   "metadata": {},
   "outputs": [
    {
     "data": {
      "text/plain": [
       "3"
      ]
     },
     "execution_count": 57,
     "metadata": {},
     "output_type": "execute_result"
    }
   ],
   "source": [
    "rand_array.argmin()"
   ]
  },
  {
   "cell_type": "code",
   "execution_count": 58,
   "id": "16ef1658",
   "metadata": {},
   "outputs": [
    {
     "data": {
      "text/plain": [
       "6"
      ]
     },
     "execution_count": 58,
     "metadata": {},
     "output_type": "execute_result"
    }
   ],
   "source": [
    "rand_array.max()"
   ]
  },
  {
   "cell_type": "code",
   "execution_count": 59,
   "id": "bb2654ae",
   "metadata": {},
   "outputs": [
    {
     "data": {
      "text/plain": [
       "17"
      ]
     },
     "execution_count": 59,
     "metadata": {},
     "output_type": "execute_result"
    }
   ],
   "source": [
    "sample_array.argmax()"
   ]
  },
  {
   "cell_type": "code",
   "execution_count": 61,
   "id": "48e707be",
   "metadata": {},
   "outputs": [
    {
     "data": {
      "text/plain": [
       "dtype('int32')"
      ]
     },
     "execution_count": 61,
     "metadata": {},
     "output_type": "execute_result"
    }
   ],
   "source": [
    "sample_array.dtype"
   ]
  },
  {
   "cell_type": "code",
   "execution_count": 62,
   "id": "312e5e87",
   "metadata": {},
   "outputs": [
    {
     "data": {
      "text/plain": [
       "array([[1., 0., 0., 0., 0.],\n",
       "       [0., 1., 0., 0., 0.],\n",
       "       [0., 0., 1., 0., 0.],\n",
       "       [0., 0., 0., 1., 0.],\n",
       "       [0., 0., 0., 0., 1.]])"
      ]
     },
     "execution_count": 62,
     "metadata": {},
     "output_type": "execute_result"
    }
   ],
   "source": [
    "a=np.eye(5)\n",
    "a"
   ]
  },
  {
   "cell_type": "code",
   "execution_count": 63,
   "id": "3d7d5175",
   "metadata": {},
   "outputs": [
    {
     "data": {
      "text/plain": [
       "array([[0.57036521, 0.81370439, 0.80314034],\n",
       "       [0.04535792, 0.91771374, 0.28527265]])"
      ]
     },
     "execution_count": 63,
     "metadata": {},
     "output_type": "execute_result"
    }
   ],
   "source": [
    "a=np.random.rand(2,3) #rand ----uniform distribution\n",
    "a"
   ]
  },
  {
   "cell_type": "code",
   "execution_count": 64,
   "id": "5f82c6ac",
   "metadata": {},
   "outputs": [
    {
     "data": {
      "text/plain": [
       "array([[0.57036521, 0.04535792],\n",
       "       [0.81370439, 0.91771374],\n",
       "       [0.80314034, 0.28527265]])"
      ]
     },
     "execution_count": 64,
     "metadata": {},
     "output_type": "execute_result"
    }
   ],
   "source": [
    "a.T #Transpose matrix"
   ]
  },
  {
   "cell_type": "code",
   "execution_count": 66,
   "id": "4b2dd6e3",
   "metadata": {},
   "outputs": [
    {
     "data": {
      "text/plain": [
       "array([10, 11, 12, 13, 14, 15, 16, 17, 18, 19, 20, 21, 22, 23, 24, 25, 26,\n",
       "       27])"
      ]
     },
     "execution_count": 66,
     "metadata": {},
     "output_type": "execute_result"
    }
   ],
   "source": [
    "sample_array=np.arange(10,28)\n",
    "sample_array"
   ]
  },
  {
   "cell_type": "code",
   "execution_count": 68,
   "id": "54004cfa",
   "metadata": {},
   "outputs": [
    {
     "data": {
      "text/plain": [
       "array([[10, 11, 12],\n",
       "       [13, 14, 15],\n",
       "       [16, 17, 18],\n",
       "       [19, 20, 21],\n",
       "       [22, 23, 24],\n",
       "       [25, 26, 27]])"
      ]
     },
     "execution_count": 68,
     "metadata": {},
     "output_type": "execute_result"
    }
   ],
   "source": [
    "sample_array=sample_array.reshape(6,3)\n",
    "sample_array"
   ]
  },
  {
   "cell_type": "code",
   "execution_count": 69,
   "id": "d4651ed7",
   "metadata": {},
   "outputs": [
    {
     "ename": "ValueError",
     "evalue": "cannot reshape array of size 18 into shape (3,4)",
     "output_type": "error",
     "traceback": [
      "\u001b[1;31m---------------------------------------------------------------------------\u001b[0m",
      "\u001b[1;31mValueError\u001b[0m                                Traceback (most recent call last)",
      "\u001b[1;32m<ipython-input-69-8ea8b3d72c0b>\u001b[0m in \u001b[0;36m<module>\u001b[1;34m\u001b[0m\n\u001b[1;32m----> 1\u001b[1;33m \u001b[0msample_array\u001b[0m\u001b[1;33m=\u001b[0m\u001b[0msample_array\u001b[0m\u001b[1;33m.\u001b[0m\u001b[0mreshape\u001b[0m\u001b[1;33m(\u001b[0m\u001b[1;36m3\u001b[0m\u001b[1;33m,\u001b[0m\u001b[1;36m4\u001b[0m\u001b[1;33m)\u001b[0m\u001b[1;33m\u001b[0m\u001b[1;33m\u001b[0m\u001b[0m\n\u001b[0m\u001b[0;32m      2\u001b[0m \u001b[0msample_array\u001b[0m\u001b[1;33m\u001b[0m\u001b[1;33m\u001b[0m\u001b[0m\n",
      "\u001b[1;31mValueError\u001b[0m: cannot reshape array of size 18 into shape (3,4)"
     ]
    }
   ],
   "source": [
    "sample_array=sample_array.reshape(3,4)\n",
    "sample_array"
   ]
  },
  {
   "cell_type": "code",
   "execution_count": 70,
   "id": "45d7dd20",
   "metadata": {},
   "outputs": [
    {
     "ename": "ValueError",
     "evalue": "cannot reshape array of size 18 into shape (3,8)",
     "output_type": "error",
     "traceback": [
      "\u001b[1;31m---------------------------------------------------------------------------\u001b[0m",
      "\u001b[1;31mValueError\u001b[0m                                Traceback (most recent call last)",
      "\u001b[1;32m<ipython-input-70-f29ba6d3f558>\u001b[0m in \u001b[0;36m<module>\u001b[1;34m\u001b[0m\n\u001b[1;32m----> 1\u001b[1;33m \u001b[0msample_array\u001b[0m\u001b[1;33m=\u001b[0m\u001b[0msample_array\u001b[0m\u001b[1;33m.\u001b[0m\u001b[0mreshape\u001b[0m\u001b[1;33m(\u001b[0m\u001b[1;36m3\u001b[0m\u001b[1;33m,\u001b[0m\u001b[1;36m8\u001b[0m\u001b[1;33m)\u001b[0m\u001b[1;33m\u001b[0m\u001b[1;33m\u001b[0m\u001b[0m\n\u001b[0m\u001b[0;32m      2\u001b[0m \u001b[0msample_array\u001b[0m\u001b[1;33m\u001b[0m\u001b[1;33m\u001b[0m\u001b[0m\n",
      "\u001b[1;31mValueError\u001b[0m: cannot reshape array of size 18 into shape (3,8)"
     ]
    }
   ],
   "source": [
    "sample_array=sample_array.reshape(3,8)\n",
    "sample_array"
   ]
  },
  {
   "cell_type": "code",
   "execution_count": 71,
   "id": "ed844143",
   "metadata": {},
   "outputs": [
    {
     "data": {
      "text/plain": [
       "array([[ 10,  11,  12],\n",
       "       [ 13,  14,  15],\n",
       "       [ 16,  17,  18],\n",
       "       [ 19,  20,  21],\n",
       "       [ 22,  23,  24],\n",
       "       [100, 100, 100]])"
      ]
     },
     "execution_count": 71,
     "metadata": {},
     "output_type": "execute_result"
    }
   ],
   "source": [
    "sample_array[5]=100\n",
    "sample_array"
   ]
  },
  {
   "cell_type": "code",
   "execution_count": 72,
   "id": "92f21717",
   "metadata": {},
   "outputs": [
    {
     "data": {
      "text/plain": [
       "array([10, 11, 12, 13, 14, 15, 16, 17, 18, 19, 20, 21, 22, 23, 24, 25, 26,\n",
       "       27, 28, 29, 30, 31, 32, 33, 34, 35, 36, 37, 38, 39, 40, 41, 42, 43,\n",
       "       44, 45, 46, 47, 48, 49, 50, 51, 52, 53, 54, 55, 56, 57, 58, 59, 60,\n",
       "       61, 62, 63, 64, 65, 66, 67, 68, 69, 70, 71, 72, 73, 74, 75, 76, 77,\n",
       "       78, 79, 80, 81, 82, 83, 84, 85, 86, 87, 88, 89, 90, 91, 92, 93, 94,\n",
       "       95, 96, 97, 98, 99])"
      ]
     },
     "execution_count": 72,
     "metadata": {},
     "output_type": "execute_result"
    }
   ],
   "source": [
    "sample_array=np.arange(10,100)\n",
    "sample_array"
   ]
  },
  {
   "cell_type": "code",
   "execution_count": 73,
   "id": "3f7ee883",
   "metadata": {},
   "outputs": [
    {
     "data": {
      "text/plain": [
       "array([13, 14, 15, 16, 17, 18])"
      ]
     },
     "execution_count": 73,
     "metadata": {},
     "output_type": "execute_result"
    }
   ],
   "source": [
    "sample_array[3:9] "
   ]
  },
  {
   "cell_type": "code",
   "execution_count": 76,
   "id": "97b79dea",
   "metadata": {},
   "outputs": [
    {
     "data": {
      "text/plain": [
       "array([11, 12, 13, 14, 15, 16, 17, 18, 19, 20, 21])"
      ]
     },
     "execution_count": 76,
     "metadata": {},
     "output_type": "execute_result"
    }
   ],
   "source": [
    "sample_array[1:12]"
   ]
  },
  {
   "cell_type": "code",
   "execution_count": 77,
   "id": "a188b234",
   "metadata": {},
   "outputs": [],
   "source": [
    "subset_sample_array=sample_array[0:7]\n",
    "subset_sample_array"
   ]
  },
  {
   "cell_type": "code",
   "execution_count": 79,
   "id": "7b9800f4",
   "metadata": {},
   "outputs": [
    {
     "data": {
      "text/plain": [
       "array([1001, 1001, 1001, 1001, 1001, 1001, 1001, 1001, 1001, 1001, 1001,\n",
       "       1001, 1001, 1001, 1001, 1001, 1001, 1001, 1001, 1001, 1001, 1001,\n",
       "       1001, 1001, 1001, 1001, 1001, 1001, 1001, 1001, 1001, 1001, 1001,\n",
       "       1001, 1001, 1001, 1001, 1001, 1001, 1001, 1001, 1001, 1001, 1001,\n",
       "       1001, 1001, 1001, 1001, 1001, 1001, 1001, 1001, 1001, 1001, 1001,\n",
       "       1001, 1001, 1001, 1001, 1001, 1001, 1001, 1001, 1001, 1001, 1001,\n",
       "       1001, 1001, 1001, 1001, 1001, 1001, 1001, 1001, 1001, 1001, 1001,\n",
       "       1001, 1001, 1001, 1001, 1001, 1001, 1001, 1001, 1001, 1001, 1001,\n",
       "       1001, 1001])"
      ]
     },
     "execution_count": 79,
     "metadata": {},
     "output_type": "execute_result"
    }
   ],
   "source": [
    "sample_array[:]=1001\n",
    "sample_array"
   ]
  },
  {
   "cell_type": "code",
   "execution_count": null,
   "id": "f708c4be",
   "metadata": {},
   "outputs": [],
   "source": []
  }
 ],
 "metadata": {
  "kernelspec": {
   "display_name": "Python 3",
   "language": "python",
   "name": "python3"
  },
  "language_info": {
   "codemirror_mode": {
    "name": "ipython",
    "version": 3
   },
   "file_extension": ".py",
   "mimetype": "text/x-python",
   "name": "python",
   "nbconvert_exporter": "python",
   "pygments_lexer": "ipython3",
   "version": "3.8.8"
  }
 },
 "nbformat": 4,
 "nbformat_minor": 5
}
